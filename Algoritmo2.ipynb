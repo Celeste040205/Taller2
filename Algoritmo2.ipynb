{
 "cells": [
  {
   "cell_type": "markdown",
   "id": "7505eb28-7435-4f20-9752-4b67e61a4484",
   "metadata": {},
   "source": [
    "#### Miércoles 06 de Mayo del 2025\n",
    "## Taller 2\n",
    "### Algoritmo 2\n",
    "### Integrantes: Celeste Gallardo, Jesua Villacis\n",
    "\n",
    "2. Encuentre todos los puntos en los que la curva $(\\frac{y}{2})^{2}=(\\frac{x+3}{2})^{2}−1$\n",
    " interseca el eje $y=−2$\n"
   ]
  },
  {
   "cell_type": "code",
   "execution_count": null,
   "id": "4c34fcfd-dbfe-4ccb-b89a-91a1c3e9834f",
   "metadata": {},
   "outputs": [],
   "source": []
  },
  {
   "cell_type": "code",
   "execution_count": null,
   "id": "9771c7d4-52c1-48c7-9855-aa76c69761b5",
   "metadata": {},
   "outputs": [],
   "source": []
  }
 ],
 "metadata": {
  "kernelspec": {
   "display_name": "Python 3 (ipykernel)",
   "language": "python",
   "name": "python3"
  },
  "language_info": {
   "codemirror_mode": {
    "name": "ipython",
    "version": 3
   },
   "file_extension": ".py",
   "mimetype": "text/x-python",
   "name": "python",
   "nbconvert_exporter": "python",
   "pygments_lexer": "ipython3",
   "version": "3.11.10"
  }
 },
 "nbformat": 4,
 "nbformat_minor": 5
}
