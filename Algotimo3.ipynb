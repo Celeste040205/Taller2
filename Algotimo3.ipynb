{
 "cells": [
  {
   "cell_type": "markdown",
   "id": "b2e55a66",
   "metadata": {},
   "source": [
    "# Ejercicio 3\n",
    "\n",
    "Nombres: Celeste Gallardo, Jesua Villacis"
   ]
  },
  {
   "cell_type": "markdown",
   "id": "01a7de39",
   "metadata": {},
   "source": []
  }
 ],
 "metadata": {
  "kernelspec": {
   "display_name": "Python 3",
   "language": "python",
   "name": "python3"
  },
  "language_info": {
   "name": "python",
   "version": "3.11.9"
  }
 },
 "nbformat": 4,
 "nbformat_minor": 5
}
